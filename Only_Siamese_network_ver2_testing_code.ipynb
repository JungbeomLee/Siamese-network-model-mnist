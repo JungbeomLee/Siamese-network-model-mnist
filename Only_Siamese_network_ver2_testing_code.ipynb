{
 "cells": [
  {
   "cell_type": "code",
   "execution_count": 1,
   "id": "a335b39d",
   "metadata": {},
   "outputs": [
    {
     "data": {
      "text/plain": [
       "'2.9.1'"
      ]
     },
     "execution_count": 1,
     "metadata": {},
     "output_type": "execute_result"
    }
   ],
   "source": [
    "import tensorflow as tf\n",
    "import matplotlib.pyplot as plt\n",
    "\n",
    "tf.__version__"
   ]
  },
  {
   "cell_type": "code",
   "execution_count": 2,
   "id": "5e40a2b7",
   "metadata": {},
   "outputs": [],
   "source": [
    "from tensorflow.keras.layers import *\n",
    "from tensorflow.keras.models import Model\n",
    "from tensorflow.keras.optimizers import RMSprop\n",
    "from tensorflow.keras.utils import plot_model"
   ]
  },
  {
   "cell_type": "code",
   "execution_count": 3,
   "id": "6d2e54f0",
   "metadata": {},
   "outputs": [],
   "source": [
    "from create_Siamese_network_ver2 import CREATE_SIAMESE_NETWORK_MODEL"
   ]
  },
  {
   "cell_type": "code",
   "execution_count": 4,
   "id": "7ce1f67a",
   "metadata": {},
   "outputs": [],
   "source": [
    "siamese_model = CREATE_SIAMESE_NETWORK_MODEL()\n",
    "\n",
    "model = siamese_model.create_model()"
   ]
  },
  {
   "cell_type": "code",
   "execution_count": 5,
   "id": "f5a8fe1f",
   "metadata": {
    "scrolled": true
   },
   "outputs": [
    {
     "data": {
      "text/plain": [
       "<tensorflow.python.training.tracking.util.CheckpointLoadStatus at 0x2d73b9030d0>"
      ]
     },
     "execution_count": 5,
     "metadata": {},
     "output_type": "execute_result"
    }
   ],
   "source": [
    "model.load_weights('./model/weight_of_only_siamese_network_addEuclideanDistance')"
   ]
  },
  {
   "attachments": {},
   "cell_type": "markdown",
   "id": "2c3c27fc",
   "metadata": {},
   "source": [
    "## 데이터셋 불러오기"
   ]
  },
  {
   "cell_type": "code",
   "execution_count": 6,
   "id": "e3ff6c1d",
   "metadata": {
    "scrolled": true
   },
   "outputs": [
    {
     "data": {
      "text/plain": [
       "((60000, 28, 28), (60000,), (10000, 28, 28), (10000,))"
      ]
     },
     "execution_count": 6,
     "metadata": {},
     "output_type": "execute_result"
    }
   ],
   "source": [
    "mnist = tf.keras.datasets.mnist\n",
    "\n",
    "(x_train, y_train), (x_test, y_test) = mnist.load_data()\n",
    "\n",
    "x_train.shape, y_train.shape, x_test.shape, y_test.shape"
   ]
  },
  {
   "cell_type": "code",
   "execution_count": 7,
   "id": "8aee2b6a",
   "metadata": {},
   "outputs": [
    {
     "data": {
      "text/plain": [
       "((300, 28, 28), (300,))"
      ]
     },
     "execution_count": 7,
     "metadata": {},
     "output_type": "execute_result"
    }
   ],
   "source": [
    "import numpy as np\n",
    "\n",
    "random_indices = np.random.choice(x_train.shape[0], 300, replace=False)\n",
    "\n",
    "x_train_sample, y_train_sample = x_train[random_indices], y_train[random_indices]\n",
    "\n",
    "x_train_sample.shape, y_train_sample.shape"
   ]
  },
  {
   "cell_type": "code",
   "execution_count": 8,
   "id": "81e33335",
   "metadata": {},
   "outputs": [],
   "source": [
    "import itertools\n",
    "\n",
    "def make_pair_dataset(x, y) :\n",
    "    x_pairs, y_pairs = [], []\n",
    "\n",
    "    tuples = [(x1, y1) for x1, y1 in zip(x, y)]\n",
    "    \n",
    "    for t in itertools.product(tuples, tuples) :\n",
    "        pair_a, pair_b = t\n",
    "        img_a, label_a = t[0]\n",
    "        img_b, label_b = t[1]\n",
    "\n",
    "        new_label = int(label_a == label_b)\n",
    "\n",
    "        x_pairs.append([img_a, img_b])\n",
    "        y_pairs.append(new_label)\n",
    "    x_pairs = np.array(x_pairs)\n",
    "    y_pairs = np.array(y_pairs)\n",
    "\n",
    "    return x_pairs, y_pairs"
   ]
  },
  {
   "cell_type": "code",
   "execution_count": 9,
   "id": "eb8965bc",
   "metadata": {},
   "outputs": [
    {
     "data": {
      "text/plain": [
       "((90000, 2, 28, 28), (90000,))"
      ]
     },
     "execution_count": 9,
     "metadata": {},
     "output_type": "execute_result"
    }
   ],
   "source": [
    "x_train_pairs, y_train_pairs = make_pair_dataset(x_train_sample, y_train_sample)\n",
    "x_train_pairs.shape, y_train_pairs.shape"
   ]
  },
  {
   "cell_type": "code",
   "execution_count": 10,
   "id": "58de614f",
   "metadata": {},
   "outputs": [
    {
     "data": {
      "text/plain": [
       "{0: 80752, 1: 9248}"
      ]
     },
     "execution_count": 10,
     "metadata": {},
     "output_type": "execute_result"
    }
   ],
   "source": [
    "unique, counts = np.unique(np.reshape(y_train_pairs, (90000,)), return_counts=True)\n",
    "dict(zip(unique, counts))"
   ]
  },
  {
   "cell_type": "code",
   "execution_count": 11,
   "id": "33c5daa7",
   "metadata": {},
   "outputs": [
    {
     "data": {
      "text/plain": [
       "((150, 28, 28), (150,))"
      ]
     },
     "execution_count": 11,
     "metadata": {},
     "output_type": "execute_result"
    }
   ],
   "source": [
    "random_indices = np.random.choice(x_train.shape[0], 150, replace=False)\n",
    "\n",
    "x_test_sample, y_test_sample = x_train[random_indices], y_train[random_indices]\n",
    "\n",
    "x_test_sample.shape, y_test_sample.shape"
   ]
  },
  {
   "cell_type": "code",
   "execution_count": 12,
   "id": "dbeeba9f",
   "metadata": {},
   "outputs": [
    {
     "data": {
      "text/plain": [
       "((22500, 2, 28, 28), (22500,))"
      ]
     },
     "execution_count": 12,
     "metadata": {},
     "output_type": "execute_result"
    }
   ],
   "source": [
    "x_test_pairs, y_test_pairs = make_pair_dataset(x_test_sample, y_test_sample)\n",
    "x_test_pairs.shape, y_test_pairs.shape"
   ]
  },
  {
   "cell_type": "code",
   "execution_count": 13,
   "id": "efce3276",
   "metadata": {},
   "outputs": [
    {
     "data": {
      "text/plain": [
       "(7, 2)"
      ]
     },
     "execution_count": 13,
     "metadata": {},
     "output_type": "execute_result"
    }
   ],
   "source": [
    "img_a, img_b = x_test[0], x_test[1]\n",
    "label_a, label_b = y_test[0], y_test[1]\n",
    "\n",
    "label_a, label_b"
   ]
  },
  {
   "cell_type": "code",
   "execution_count": 14,
   "id": "ea699455",
   "metadata": {},
   "outputs": [],
   "source": [
    "def show_image(image1, label_1, image2, label_2):\n",
    "    plt.figure(figsize=(8, 4))\n",
    "    plt.grid(False)\n",
    " \n",
    "    plt.subplot(1,2,1)\n",
    "    plt.title(label_1)\n",
    "    plt.imshow(image1)\n",
    " \n",
    "    plt.subplot(1,2,2)\n",
    "    plt.title(label_2)\n",
    "    plt.imshow(image2)\n",
    "    plt.show()"
   ]
  },
  {
   "cell_type": "code",
   "execution_count": 15,
   "id": "0e91cdab",
   "metadata": {},
   "outputs": [
    {
     "name": "stderr",
     "output_type": "stream",
     "text": [
      "C:\\Users\\user\\AppData\\Local\\Temp\\ipykernel_28944\\1424263075.py:5: MatplotlibDeprecationWarning: Auto-removal of overlapping axes is deprecated since 3.6 and will be removed two minor releases later; explicitly call ax.remove() as needed.\n",
      "  plt.subplot(1,2,1)\n"
     ]
    },
    {
     "data": {
      "image/png": "[encoded data removed]",
      "text/plain": [
       "<Figure size 800x400 with 2 Axes>"
      ]
     },
     "metadata": {},
     "output_type": "display_data"
    }
   ],
   "source": [
    "show_image(img_a,label_a, img_b,label_b)"
   ]
  },
  {
   "cell_type": "code",
   "execution_count": 16,
   "id": "8b07b268",
   "metadata": {},
   "outputs": [],
   "source": [
    "y_train_pairs_float = y_train_pairs.astype(np.float32)\n",
    "y_test_pairs_float = y_test_pairs.astype(np.float32)"
   ]
  },
  {
   "cell_type": "code",
   "execution_count": 17,
   "id": "440194f7",
   "metadata": {},
   "outputs": [
    {
     "name": "stdout",
     "output_type": "stream",
     "text": [
      "704/704 [==============================] - 10s 5ms/step - loss: 0.0416\n",
      "2813/2813 [==============================] - 12s 4ms/step\n",
      "704/704 [==============================] - 3s 4ms/step\n",
      "Loss = 0.04161469638347626, Train Accuracy = 0.9610444444444445 Test Accuracy = 0.9537777777777777\n"
     ]
    }
   ],
   "source": [
    "def compute_accuracy(y_true, y_pred):\n",
    "    '''Compute classification accuracy with a fixed threshold on distances.\n",
    "    '''\n",
    "    pred = y_pred.ravel() < 0.5\n",
    "    return np.mean(pred == y_true)\n",
    "    \n",
    "loss = model.evaluate([x_test_pairs[:,0, :, :],x_test_pairs[:,1, :, :]],y_test_pairs_float)\n",
    " \n",
    "y_pred_train = model.predict([x_train_pairs[:,0, : ,:], x_train_pairs[:,1, :, :]])\n",
    "train_accuracy = compute_accuracy(y_train_pairs_float, y_pred_train)\n",
    " \n",
    "y_pred_test = model.predict([x_test_pairs[:,0, :, :], x_test_pairs[:,1, :, :]])\n",
    "test_accuracy = compute_accuracy(y_test_pairs_float, y_pred_test)\n",
    " \n",
    "print(\"Loss = {}, Train Accuracy = {} Test Accuracy = {}\".format(loss, train_accuracy, test_accuracy))"
   ]
  },
  {
   "cell_type": "code",
   "execution_count": 18,
   "id": "e682c7d8",
   "metadata": {
    "scrolled": true
   },
   "outputs": [
    {
     "data": {
      "image/png": "[encoded data removed]",
      "text/plain": [
       "<Figure size 1700x300 with 1 Axes>"
      ]
     },
     "metadata": {},
     "output_type": "display_data"
    },
    {
     "data": {
      "image/png": "[encoded data removed]",
      "text/plain": [
       "<Figure size 1700x300 with 1 Axes>"
      ]
     },
     "metadata": {},
     "output_type": "display_data"
    }
   ],
   "source": [
    "def display_images(left, right, predictions, labels, title, n):\n",
    "    plt.figure(figsize=(17,3))\n",
    "    plt.title(title)\n",
    "    plt.yticks([])\n",
    "    plt.xticks([])\n",
    "    plt.grid(None)\n",
    "    left = np.reshape(left, [n, 28, 28])\n",
    "    left = np.swapaxes(left, 0, 1)\n",
    "    left = np.reshape(left, [28, 28*n])\n",
    "    plt.imshow(left)\n",
    "    plt.figure(figsize=(17,3))\n",
    "    plt.yticks([])\n",
    "    plt.xticks([28*x+14 for x in range(n)], predictions)\n",
    "    for i,t in enumerate(plt.gca().xaxis.get_ticklabels()):\n",
    "        if predictions[i] > 0.5: t.set_color('red') # bad predictions in red\n",
    "    plt.grid(None)\n",
    "    right = np.reshape(right, [n, 28, 28])\n",
    "    right = np.swapaxes(right, 0, 1)\n",
    "    right = np.reshape(right, [28, 28*n])\n",
    "    plt.imshow(right)\n",
    "    \n",
    "y_pred_train = np.squeeze(y_pred_train)\n",
    "indexes = np.random.choice(len(y_pred_train), size=10)\n",
    "display_images(x_train_pairs[:, 0, :,:][indexes], x_train_pairs[:, 1,:,:][indexes], y_pred_train[indexes], y_train_pairs_float[indexes], \"number and their dissimilarity\", 10)"
   ]
  },
  {
   "cell_type": "code",
   "execution_count": null,
   "id": "7d4e1d1a",
   "metadata": {},
   "outputs": [],
   "source": []
  },
  {
   "cell_type": "code",
   "execution_count": null,
   "id": "95a17d6f",
   "metadata": {},
   "outputs": [],
   "source": []
  },
  {
   "cell_type": "code",
   "execution_count": null,
   "id": "c1ec0bab",
   "metadata": {},
   "outputs": [],
   "source": []
  },
  {
   "cell_type": "code",
   "execution_count": null,
   "id": "747f5891",
   "metadata": {},
   "outputs": [],
   "source": []
  }
 ],
 "metadata": {
  "kernelspec": {
   "display_name": "afs",
   "language": "python",
   "name": "afs"
  },
  "language_info": {
   "codemirror_mode": {
    "name": "ipython",
    "version": 3
   },
   "file_extension": ".py",
   "mimetype": "text/x-python",
   "name": "python",
   "nbconvert_exporter": "python",
   "pygments_lexer": "ipython3",
   "version": "3.9.7"
  }
 },
 "nbformat": 4,
 "nbformat_minor": 5
}
